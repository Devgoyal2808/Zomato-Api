{
 "cells": [
  {
   "cell_type": "markdown",
   "metadata": {},
   "source": [
    "### cuisine_id of ‘Mexican’ cuisine using Zomato API."
   ]
  },
  {
   "cell_type": "code",
   "execution_count": 1,
   "metadata": {},
   "outputs": [
    {
     "name": "stdout",
     "output_type": "stream",
     "text": [
      "73 \n"
     ]
    }
   ],
   "source": [
    "# 1.4\n",
    "import json\n",
    "import requests\n",
    "from requests.auth import HTTPBasicAuth\n",
    "header={\"Accept\": \"application/json\", \"user-key\": \"fc9e78b60981a2f3d2963de0a47561e4\",\"User-agent\":\"Dev Goyal\"}\n",
    "ax=requests.get('https://developers.zomato.com/api/v2.1/locations',headers=header,params={'query':'Connaught Place'})\n",
    "bx=ax.json()\n",
    "# print(bx)\n",
    "# print(ax.status_code)\n",
    "# print(ax.url)\n",
    "# print(bx['location_suggestions'][0]['entity_type'],bx['location_suggestions'][0]['entity_id'])\n",
    "# print(bx)\n",
    "cy_id=bx['location_suggestions'][0]['city_id']\n",
    "lat=bx['location_suggestions'][0]['latitude']\n",
    "lon=bx['location_suggestions'][0]['longitude']\n",
    "par={'city_id':cy_id,'lat':lat,'lon':lon}\n",
    "cx=requests.get('https://developers.zomato.com/api/v2.1/cuisines',headers=header,params=par)\n",
    "dx=cx.json()\n",
    "# print(dx)\n",
    "str1=\"\"\n",
    "for i in dx['cuisines']:\n",
    "    if i['cuisine']['cuisine_name'].strip()=='Mexican':\n",
    "        str1=str1+str(i['cuisine']['cuisine_id'])+\" \"\n",
    "\n",
    "\n",
    "print(str1)"
   ]
  },
  {
   "cell_type": "markdown",
   "metadata": {},
   "source": [
    "### entityid and entitytype of place Connaught Place."
   ]
  },
  {
   "cell_type": "code",
   "execution_count": 2,
   "metadata": {},
   "outputs": [
    {
     "name": "stdout",
     "output_type": "stream",
     "text": [
      "subzone 104\n"
     ]
    }
   ],
   "source": [
    "import json\n",
    "import requests\n",
    "from requests.auth import HTTPBasicAuth\n",
    "header={\"Accept\": \"application/json\", \"user-key\": \"fc9e78b60981a2f3d2963de0a47561e4\",\"User-agent\":\"Dev Goyal\"}\n",
    "ax=requests.get('https://developers.zomato.com/api/v2.1/locations?query=Connaught%20Place',headers=header)\n",
    "bx=ax.json()\n",
    "# print(ax.status_code)\n",
    "# print(ax.url)\n",
    "print(bx['location_suggestions'][0]['entity_type'],bx['location_suggestions'][0]['entity_id'])"
   ]
  },
  {
   "cell_type": "markdown",
   "metadata": {},
   "source": [
    "### the top 10 best-rated restaurant serving ‘Mexican’ cuisine present in Connaught Place."
   ]
  },
  {
   "cell_type": "code",
   "execution_count": 3,
   "metadata": {},
   "outputs": [
    {
     "name": "stdout",
     "output_type": "stream",
     "text": [
      "Station Bar 4.5 18851371\n",
      "Tamasha 4.4 18238278\n",
      "Xero Degrees 4.4 18729557\n",
      "Master Of Malts 4.4 18391149\n",
      "Chili's Grill & Bar 4.4 18537536\n",
      "Local 4.3 18382360\n",
      "The Junkyard Cafe 4.3 313256\n",
      "Ministry Of Beer 4.3 18418277\n",
      "Teddy Boy 4.3 18281985\n",
      "Lord Of The Drinks 4.3 312603\n"
     ]
    }
   ],
   "source": [
    "# 1.4\n",
    "import json\n",
    "import requests\n",
    "from requests.auth import HTTPBasicAuth\n",
    "\n",
    "# 1.4\n",
    "header={\"Accept\": \"application/json\", \"user-key\": \"fc9e78b60981a2f3d2963de0a47561e4\",\"User-agent\":\"Dev Goyal\"}\n",
    "ax=requests.get('https://developers.zomato.com/api/v2.1/locations',headers=header,params={'query':'Connaught Place'})\n",
    "bx=ax.json()\n",
    "# print(bx)\n",
    "# print(ax.status_code)\n",
    "# print(ax.url)\n",
    "# print(bx['location_suggestions'][0]['entity_type'],bx['location_suggestions'][0]['entity_id'])\n",
    "# print(bx)\n",
    "cy_id=bx['location_suggestions'][0]['city_id']\n",
    "lat=bx['location_suggestions'][0]['latitude']\n",
    "lon=bx['location_suggestions'][0]['longitude']\n",
    "par={'city_id':cy_id,'lat':lat,'lon':lon}\n",
    "cx=requests.get('https://developers.zomato.com/api/v2.1/cuisines',headers=header,params=par)\n",
    "dx=cx.json()\n",
    "# print(dx)\n",
    "str1=\"\"\n",
    "for i in dx['cuisines']:\n",
    "    if i['cuisine']['cuisine_name'].strip()=='Mexican':\n",
    "        str1=str1+str(i['cuisine']['cuisine_id'])+\" \"\n",
    "# print(str1)\n",
    "par={'city_id':cy_id,'lat':lat,'lon':lon,'entity_id':104,'entity_type':'subzone','cuisines':'73','sort':'rating',\n",
    "     'order':'desc','count':10}\n",
    "cx=requests.get('https://developers.zomato.com/api/v2.1/search',headers=header,params=par)\n",
    "dx=cx.json()\n",
    "# print(cx.url)\n",
    "for i in dx['restaurants']:\n",
    "#     print(i)\n",
    "    print(i['restaurant']['name'],i['restaurant']['user_rating']['aggregate_rating'],i['restaurant']['R']['res_id'])\n",
    "#     print(\"------------\")"
   ]
  },
  {
   "cell_type": "markdown",
   "metadata": {},
   "source": [
    "### the category id of category type ‘Cafes’ using Zomato API."
   ]
  },
  {
   "cell_type": "code",
   "execution_count": 4,
   "metadata": {},
   "outputs": [
    {
     "name": "stdout",
     "output_type": "stream",
     "text": [
      "6\n"
     ]
    }
   ],
   "source": [
    "# 1.5\n",
    "import json\n",
    "import requests\n",
    "from requests.auth import HTTPBasicAuth\n",
    "header={\"Accept\": \"application/json\", \"user-key\": \"fc9e78b60981a2f3d2963de0a47561e4\",\"User-agent\":\"Dev Goyal\"}\n",
    "ax=requests.get('https://developers.zomato.com/api/v2.1/categories',headers=header)\n",
    "bx=ax.json()\n",
    "for i in bx['categories']:\n",
    "    if i['categories']['name']=='Cafes':\n",
    "        print(i['categories']['id'])\n",
    "        break;"
   ]
  },
  {
   "cell_type": "markdown",
   "metadata": {},
   "source": [
    "### the best-rated restaurant for ‘Mexican’ cuisine with category type ‘ Cafes’ present in Connaught Place using Zomato API."
   ]
  },
  {
   "cell_type": "code",
   "execution_count": 5,
   "metadata": {},
   "outputs": [
    {
     "name": "stdout",
     "output_type": "stream",
     "text": [
      "Xero Degrees 4.4 18729557\n",
      "Chaayos - Meri Wali Chai 4.2 18237315\n",
      "The Art House Bar n Cafe 4.0 18863766\n",
      "Cafe Coffee Day - The Square 3.5 303034\n"
     ]
    }
   ],
   "source": [
    "#1.6\n",
    "\n",
    "# 1.4\n",
    "import json\n",
    "import requests\n",
    "from requests.auth import HTTPBasicAuth\n",
    "header={\"Accept\": \"application/json\", \"user-key\": \"fc9e78b60981a2f3d2963de0a47561e4\",\"User-agent\":\"Dev Goyal\"}\n",
    "ax=requests.get('https://developers.zomato.com/api/v2.1/locations',headers=header,params={'query':'Connaught Place'})\n",
    "bx=ax.json()\n",
    "# print(bx)\n",
    "# print(ax.status_code)\n",
    "# print(ax.url)\n",
    "# print(bx['location_suggestions'][0]['entity_type'],bx['location_suggestions'][0]['entity_id'])\n",
    "# print(bx)\n",
    "cy_id=bx['location_suggestions'][0]['city_id']\n",
    "lat=bx['location_suggestions'][0]['latitude']\n",
    "lon=bx['location_suggestions'][0]['longitude']\n",
    "par={'city_id':cy_id,'lat':lat,'lon':lon}\n",
    "cx=requests.get('https://developers.zomato.com/api/v2.1/cuisines',headers=header,params=par)\n",
    "dx=cx.json()\n",
    "# print(dx)\n",
    "str1=\"\"\n",
    "for i in dx['cuisines']:\n",
    "    if i['cuisine']['cuisine_name'].strip()=='Mexican':\n",
    "        str1=str1+str(i['cuisine']['cuisine_id'])+\" \"\n",
    "# print(str1)\n",
    "par={'city_id':cy_id,'lat':lat,'lon':lon,'entity_id':104,'entity_type':'subzone','cuisines':'73','sort':'rating',\n",
    "     'order':'desc','count':10,'category':'6'}\n",
    "cx=requests.get('https://developers.zomato.com/api/v2.1/search',headers=header,params=par)\n",
    "dx=cx.json()\n",
    "# print(cx.url)\n",
    "for i in dx['restaurants']:\n",
    "#     print(i)\n",
    "    print(i['restaurant']['name'],i['restaurant']['user_rating']['aggregate_rating'],i['restaurant']['R']['res_id'])"
   ]
  },
  {
   "cell_type": "markdown",
   "metadata": {},
   "source": [
    "### the latest review of the best-rated restaurant for ‘Mexican’ cuisine with Category type ‘Cafes’ present in Connaught Place using Zomato API."
   ]
  },
  {
   "cell_type": "code",
   "execution_count": 7,
   "metadata": {},
   "outputs": [
    {
     "name": "stdout",
     "output_type": "stream",
     "text": [
      "98kid_diary 5 It's a cool place to hangout with friends as their ambience is visual amazing amd food is great.   I liked all the dishes I've tried lately from this place and would recommend to try it out.  Our Order including Tandoori Fries, Crispy Peppy Paneer pizza and veg Extravagance pizza, baked cheese nachos , Garlic bread, Spaghetti, Game of thrones in Sliders. And as in Shakes we ordered red velvet shake, Oreo choco shake and alphanso shake.  We also had mocktails or coolers like watermelon mint, green apple etc. And finally a cup of hot Coffee which was so amazing.\n",
      "-------------------------\n",
      "The Food Ninjaa 5 A 'Must Visit' Cafe for all food Lovers ❣️  Xero Degrees is a small cafe in CP which serves delicious food and has a great ambience too.  Famous for it's Cheese Fries, they have some yummy variety of pizza's, burgers, shakes and many more things.  We ordered Tandoori Fries, Crispy Peppy Paneer pizza and veg Extravagance pizza, baked cheese nachos 😍, Garlic bread, Spaghetti, Game of thrones in Sliders etc with red velvet shake, Oreo choco shake and alphanso shake.  We even had mocktails like watermelon mint, green apple etc  Everything was really good and amazing. I really can't get over the fact that they handle such great rush with so much ease and fast service.  Do follow us on Instagram at @thefoodninjaa for more 😚  Review:-  Ambience: 4.5/5 Food Taste: 4/5 Food Quality: 4.5/5 Food Quantity: 4/5 Value For Money: 4/5 Staff and Services: 4/5  Will we visit this place again? Yes Yes!\n",
      "-------------------------\n",
      "Komal Kushwaha 5 Since covid has made us sit home so long I finally went to xero degrees for my cheat day. The place was properly sanitized and was following the social distancing. U can surely visit this place if planning for a dine in *Xero extravaganza pizza: so this was a thin crust pizza topped with lots of cheese and veggies and was a sure delight *Paneer zinger burger: the bun used was multigrain that somewhere decreased my guilt, layered with paneer patty onions and other veggies was a nice enough option to pick *Peri peri cheesy fries: these were like OMG loaded like super loaded with cheese. The masala was nice and so was the quantity *Classic plain fries: these were very crispy. The perfect fries one would like to eat *Green goblin sandwich: multigrain bread stuffed with fancy veggies, sealed with thick layer of cheese can be picked if u r a sandwich lover *Hot chocolate: since winter are round tge corner a hot beverage can be of no harm and especially if it's chocolate. Quite rich in taste  *Nuttela waffle: this was a treat to have perfectly soft and cooked, loaded with nuttela, topped with ice cream and rainbow sprinkles. A must have\n",
      "-------------------------\n",
      "Nikhil 5 Me and my family visited this place  The seating area was awesome . The service was also fast. We ordered chicken popcorn fries and mango mint. The taste was totally amazing  They are taking all precautions  Will visit this place again soon\n",
      "-------------------------\n",
      "Shreya 5 So recently i visited this amazing place  Most important thing is that they are taking all precautions. I ordered cheesy fries and cheesy margherita pizza  The presentation of the food was so good  The taste was really awesome  Value for money place to all\n",
      "-------------------------\n"
     ]
    }
   ],
   "source": [
    "#1.6\n",
    "\n",
    "# 1.4\n",
    "import json\n",
    "import requests\n",
    "from requests.auth import HTTPBasicAuth\n",
    "header={\"Accept\": \"application/json\", \"user-key\": \"fc9e78b60981a2f3d2963de0a47561e4\",\"User-agent\":\"Dev Goyal\"}\n",
    "ax=requests.get('https://developers.zomato.com/api/v2.1/locations',headers=header,params={'query':'Connaught Place'})\n",
    "bx=ax.json()\n",
    "# print(bx)\n",
    "# print(ax.status_code)\n",
    "# print(ax.url)\n",
    "# print(bx['location_suggestions'][0]['entity_type'],bx['location_suggestions'][0]['entity_id'])\n",
    "# print(bx)\n",
    "cy_id=bx['location_suggestions'][0]['city_id']\n",
    "lat=bx['location_suggestions'][0]['latitude']\n",
    "lon=bx['location_suggestions'][0]['longitude']\n",
    "par={'city_id':cy_id,'lat':lat,'lon':lon}\n",
    "cx=requests.get('https://developers.zomato.com/api/v2.1/cuisines',headers=header,params=par)\n",
    "dx=cx.json()\n",
    "# print(dx)\n",
    "str1=\"\"\n",
    "for i in dx['cuisines']:\n",
    "    if i['cuisine']['cuisine_name'].strip()=='Mexican':\n",
    "        str1=str1+str(i['cuisine']['cuisine_id'])+\" \"\n",
    "# print(str1)\n",
    "par={'city_id':cy_id,'lat':lat,'lon':lon,'entity_id':104,'entity_type':'subzone','cuisines':'73','sort':'rating',\n",
    "     'order':'desc','count':1,'category':'6'}\n",
    "cx=requests.get('https://developers.zomato.com/api/v2.1/search',headers=header,params=par)\n",
    "dx=cx.json()\n",
    "# print(cx.url)\n",
    "# print(dx)\n",
    "idd=dx['restaurants'][0]['restaurant']['R']['res_id']\n",
    "\n",
    "ex=requests.get('https://developers.zomato.com/api/v2.1/reviews',headers=header,params={'res_id':idd})\n",
    "fx=ex.json()\n",
    "for i in fx['user_reviews']:\n",
    "    print(i['review']['user']['name'],i['review']['rating'],i['review']['review_text'])\n",
    "    print('-------------------------')"
   ]
  },
  {
   "cell_type": "markdown",
   "metadata": {},
   "source": [
    "### the details of \"Pa Pa Ya\" restaurant using Zomato API."
   ]
  },
  {
   "cell_type": "code",
   "execution_count": 8,
   "metadata": {},
   "outputs": [
    {
     "name": "stdout",
     "output_type": "stream",
     "text": [
      "4.1\n",
      "2500\n",
      "Asian, Chinese, Thai, Japanese\n",
      "A-3, Select Citywalk, District Centre, Saket, New Delhi\n"
     ]
    }
   ],
   "source": [
    "import json\n",
    "import requests\n",
    "from requests.auth import HTTPBasicAuth\n",
    "header={\"Accept\": \"application/json\", \"user-key\": \"fc9e78b60981a2f3d2963de0a47561e4\",\"User-agent\":\"Dev Goyal\"}\n",
    "ax=requests.get('https://developers.zomato.com/api/v2.1/locations',headers=header,params={'query':'Delhi'})\n",
    "bx=ax.json()\n",
    "par={'entity_type':bx['location_suggestions'][0]['entity_type'],'entity_id':bx['location_suggestions'][0]['entity_id'],\n",
    "    'lat':bx['location_suggestions'][0]['latitude'],'lon':bx['location_suggestions'][0]['longitude'],\n",
    "    'cuisines':'3'}\n",
    "cx=requests.get('https://developers.zomato.com/api/v2.1/search',headers=header,params=par)\n",
    "dx=cx.json()\n",
    "for i in dx['restaurants']:\n",
    "    if i['restaurant']['name']=='Pa Pa Ya':\n",
    "        ex=i['restaurant']\n",
    "        break;\n",
    "print(ex['user_rating']['aggregate_rating'])\n",
    "print(ex['average_cost_for_two'])\n",
    "print(ex['cuisines'])\n",
    "print(ex['location']['address'])"
   ]
  },
  {
   "cell_type": "markdown",
   "metadata": {},
   "source": [
    "### Find out whether online table reservation is supported in \"Pa Pa Ya\" restaurant or not using Zomato API."
   ]
  },
  {
   "cell_type": "code",
   "execution_count": 9,
   "metadata": {},
   "outputs": [
    {
     "name": "stdout",
     "output_type": "stream",
     "text": [
      "yes\n"
     ]
    }
   ],
   "source": [
    "# 2.2\n",
    "import json\n",
    "import requests\n",
    "from requests.auth import HTTPBasicAuth\n",
    "header={\"Accept\": \"application/json\", \"user-key\": \"fc9e78b60981a2f3d2963de0a47561e4\",\"User-agent\":\"Dev Goyal\"}\n",
    "ax=requests.get('https://developers.zomato.com/api/v2.1/locations',headers=header,params={'query':'Delhi'})\n",
    "bx=ax.json()\n",
    "par={'entity_type':bx['location_suggestions'][0]['entity_type'],'entity_id':bx['location_suggestions'][0]['entity_id'],\n",
    "    'lat':bx['location_suggestions'][0]['latitude'],'lon':bx['location_suggestions'][0]['longitude'],\n",
    "    'cuisines':'3'}\n",
    "cx=requests.get('https://developers.zomato.com/api/v2.1/search',headers=header,params=par)\n",
    "dx=cx.json()\n",
    "for i in dx['restaurants']:\n",
    "    if i['restaurant']['name']=='Pa Pa Ya':\n",
    "        ex=i['restaurant']\n",
    "        break;\n",
    "if ex['is_table_reservation_supported']==1:\n",
    "    print('yes')\n",
    "else:\n",
    "    print('no')"
   ]
  },
  {
   "cell_type": "markdown",
   "metadata": {},
   "source": [
    "### the cuisine_id of of cuisine ‘BBQ’ using Zomato API."
   ]
  },
  {
   "cell_type": "code",
   "execution_count": 10,
   "metadata": {},
   "outputs": [
    {
     "name": "stdout",
     "output_type": "stream",
     "text": [
      "193 \n"
     ]
    }
   ],
   "source": [
    "# 3.1\n",
    "import json\n",
    "import requests\n",
    "from requests.auth import HTTPBasicAuth\n",
    "header={\"Accept\": \"application/json\", \"user-key\": \"fc9e78b60981a2f3d2963de0a47561e4\",\"User-agent\":\"Dev Goyal\"}\n",
    "ax=requests.get('https://developers.zomato.com/api/v2.1/locations',headers=header,params={'query':'Delhi'})\n",
    "bx=ax.json()\n",
    "# print(bx)\n",
    "# print(ax.status_code)\n",
    "# print(ax.url)\n",
    "# print(bx['location_suggestions'][0]['entity_type'],bx['location_suggestions'][0]['entity_id'])\n",
    "# print(bx)\n",
    "cy_id=bx['location_suggestions'][0]['city_id']\n",
    "lat=bx['location_suggestions'][0]['latitude']\n",
    "lon=bx['location_suggestions'][0]['longitude']\n",
    "par={'city_id':cy_id,'lat':lat,'lon':lon}\n",
    "cx=requests.get('https://developers.zomato.com/api/v2.1/cuisines',headers=header,params=par)\n",
    "dx=cx.json()\n",
    "# print(dx)\n",
    "str1=\"\"\n",
    "for i in dx['cuisines']:\n",
    "    if i['cuisine']['cuisine_name'].strip()=='BBQ':\n",
    "        str1=str1+str(i['cuisine']['cuisine_id'])+\" \"\n",
    "print(str1)"
   ]
  },
  {
   "cell_type": "markdown",
   "metadata": {},
   "source": [
    "### the list of the top 10 restaurants serving cuisine ‘BBQ’ which are nearest to pritampura Delhi."
   ]
  },
  {
   "cell_type": "code",
   "execution_count": 11,
   "metadata": {},
   "outputs": [
    {
     "name": "stdout",
     "output_type": "stream",
     "text": [
      "Themis Barbecue House 4.2 18204820 Netaji Subhash Place\n",
      "Barbeque Nation 4.1 9561 Netaji Subhash Place\n",
      "Amazings Kitchen 0 19370424 Prashant Vihar\n",
      "Anytime Chicken 0 19520153 Shalimar Bagh\n",
      "Moet's Barbeque 0 19238917 Alipur\n",
      "UBQ by Barbeque Nation 3.4 18889760 Rohini\n",
      "Chicken Adda 0 19179179 Rohini\n",
      "7teen BBQ Bistro Bnq 3.9 18595610 Moti Nagar\n",
      "The Rowdy Food 3.9 19501602 Tagore Garden\n",
      "Hunger On Wheels 0 19054336 Vijay Nagar\n"
     ]
    }
   ],
   "source": [
    "# 3.2\n",
    "import json\n",
    "import requests\n",
    "from requests.auth import HTTPBasicAuth\n",
    "header={\"Accept\": \"application/json\", \"user-key\": \"fc9e78b60981a2f3d2963de0a47561e4\",\"User-agent\":\"Dev Goyal\"}\n",
    "ax=requests.get('https://developers.zomato.com/api/v2.1/locations',headers=header,params={'query':'Delhi'})\n",
    "bx=ax.json()\n",
    "# print(bx)\n",
    "# print(ax.status_code)\n",
    "# print(ax.url)\n",
    "# print(bx['location_suggestions'][0]['entity_type'],bx['location_suggestions'][0]['entity_id'])\n",
    "# print(bx)\n",
    "\n",
    "par={'entity_type':bx['location_suggestions'][0]['entity_type'],'entity_id':bx['location_suggestions'][0]['entity_id'],\n",
    "    'lat':28.697683822470545,'lon':77.14062622715517,'sort':'real_distance','order':'asc','count':10,\n",
    "    'cuisines':'193'}\n",
    "ex=requests.get('https://developers.zomato.com/api/v2.1/search',headers=header,params=par)\n",
    "fx=ex.json()\n",
    "for i in fx['restaurants']:\n",
    "    print(i['restaurant']['name'],i['restaurant']['user_rating']['aggregate_rating'],i['restaurant']['id'],\n",
    "          i['restaurant']['location']['locality'])\n",
    "#     print('----------------')"
   ]
  },
  {
   "cell_type": "markdown",
   "metadata": {},
   "source": [
    "### the latest review of the restaurant serving cuisine ‘BBQ’ which is most nearest to pritampura Delhi."
   ]
  },
  {
   "cell_type": "code",
   "execution_count": 13,
   "metadata": {},
   "outputs": [
    {
     "name": "stdout",
     "output_type": "stream",
     "text": [
      "Garima Arora 5 Wow place for family .. friends or anyone i have enjoyed my family dinner food is superb with quality and service and staff was superb .. amamzingly attend  and serviced.. mouth watering food barbeque snacks dinner deserts 😍♥️\n",
      "-----------\n",
      "ASHISH GUPTA 1 I went there because of the reviews and the food was pathetic. Go for pirates of grill. It will be worth it\n",
      "-----------\n",
      "Shivam Mangal 2 \n",
      "-----------\n",
      "Aakriti Chandna 5 Had visited this place for a nice lunch buffet and thoroughly enjoyed everything from starters specially fish starter and salsa potatoes to main course to desserts... loved their dal makhani to the core... a messy dessert plate surely means a good time 😍... A must visit place ❤️\n",
      "-----------\n",
      "Foodiedilwala 4 The taste was really amazing 😍😍 I loved it and my family too I will visit again with my family it's really amazing\n",
      "-----------\n"
     ]
    }
   ],
   "source": [
    "# 3.3\n",
    "import json\n",
    "import requests\n",
    "from requests.auth import HTTPBasicAuth\n",
    "header={\"Accept\": \"application/json\", \"user-key\": \"fc9e78b60981a2f3d2963de0a47561e4\",\"User-agent\":\"Dev Goyal\"}\n",
    "ax=requests.get('https://developers.zomato.com/api/v2.1/locations',headers=header,params={'query':'Delhi'})\n",
    "bx=ax.json()\n",
    "# print(bx)\n",
    "# print(ax.status_code)\n",
    "# print(ax.url)\n",
    "# print(bx['location_suggestions'][0]['entity_type'],bx['location_suggestions'][0]['entity_id'])\n",
    "# print(bx)\n",
    "\n",
    "par={'entity_type':bx['location_suggestions'][0]['entity_type'],'entity_id':bx['location_suggestions'][0]['entity_id'],\n",
    "    'lat':28.697683822470545,'lon':77.14062622715517,'sort':'real_distance','order':'asc','count':1,\n",
    "    'cuisines':'193'}\n",
    "ex=requests.get('https://developers.zomato.com/api/v2.1/search',headers=header,params=par)\n",
    "fx=ex.json()\n",
    "idd=fx['restaurants'][0]['restaurant']['id']\n",
    "fx=requests.get('https://developers.zomato.com/api/v2.1/reviews',headers=header,params={'res_id':idd})\n",
    "gx=fx.json()\n",
    "for i in gx['user_reviews']:\n",
    "    print(i['review']['user']['name'],i['review']['rating'],i['review']['review_text'])\n",
    "    print('-----------')"
   ]
  },
  {
   "cell_type": "markdown",
   "metadata": {},
   "source": [
    "### the list of top 10 best-restaurant present in a radius of 4 km of Pritampura."
   ]
  },
  {
   "cell_type": "code",
   "execution_count": 14,
   "metadata": {},
   "outputs": [
    {
     "name": "stdout",
     "output_type": "stream",
     "text": [
      "Garima Arora 5 Wow place for family .. friends or anyone i have enjoyed my family dinner food is superb with quality and service and staff was superb .. amamzingly attend  and serviced.. mouth watering food barbeque snacks dinner deserts 😍♥️\n",
      "ASHISH GUPTA 1 I went there because of the reviews and the food was pathetic. Go for pirates of grill. It will be worth it\n",
      "Shivam Mangal 2 \n",
      "Aakriti Chandna 5 Had visited this place for a nice lunch buffet and thoroughly enjoyed everything from starters specially fish starter and salsa potatoes to main course to desserts... loved their dal makhani to the core... a messy dessert plate surely means a good time 😍... A must visit place ❤️\n",
      "Foodiedilwala 4 The taste was really amazing 😍😍 I loved it and my family too I will visit again with my family it's really amazing\n"
     ]
    }
   ],
   "source": [
    "# 3.3\n",
    "import json\n",
    "import requests\n",
    "from requests.auth import HTTPBasicAuth\n",
    "header={\"Accept\": \"application/json\", \"user-key\": \"fc9e78b60981a2f3d2963de0a47561e4\",\"User-agent\":\"Dev Goyal\"}\n",
    "ax=requests.get('https://developers.zomato.com/api/v2.1/locations',headers=header,params={'query':'Delhi'})\n",
    "bx=ax.json()\n",
    "# print(bx)\n",
    "# print(ax.status_code)\n",
    "# print(ax.url)\n",
    "# print(bx['location_suggestions'][0]['entity_type'],bx['location_suggestions'][0]['entity_id'])\n",
    "# print(bx)\n",
    "\n",
    "par={'entity_type':bx['location_suggestions'][0]['entity_type'],'entity_id':bx['location_suggestions'][0]['entity_id'],\n",
    "    'lat':28.697683822470545,'lon':77.14062622715517,'sort':'real_distance','order':'asc','count':1,\n",
    "    'cuisines':'193'}\n",
    "ex=requests.get('https://developers.zomato.com/api/v2.1/search',headers=header,params=par)\n",
    "fx=ex.json()\n",
    "idd=fx['restaurants'][0]['restaurant']['id']\n",
    "fx=requests.get('https://developers.zomato.com/api/v2.1/reviews',headers=header,params={'res_id':idd})\n",
    "gx=fx.json()\n",
    "for i in gx['user_reviews']:\n",
    "    print(i['review']['user']['name'],i['review']['rating'],i['review']['review_text'])"
   ]
  }
 ],
 "metadata": {
  "kernelspec": {
   "display_name": "Python 3",
   "language": "python",
   "name": "python3"
  },
  "language_info": {
   "codemirror_mode": {
    "name": "ipython",
    "version": 3
   },
   "file_extension": ".py",
   "mimetype": "text/x-python",
   "name": "python",
   "nbconvert_exporter": "python",
   "pygments_lexer": "ipython3",
   "version": "3.8.5"
  }
 },
 "nbformat": 4,
 "nbformat_minor": 4
}
